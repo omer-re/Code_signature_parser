{
  "nbformat": 4,
  "nbformat_minor": 0,
  "metadata": {
    "colab": {
      "name": "c_code_signature_parser",
      "provenance": [],
      "authorship_tag": "ABX9TyPBbJ9HKkXl6VKmRBihAKqs",
      "include_colab_link": true
    },
    "kernelspec": {
      "name": "python3",
      "display_name": "Python 3"
    },
    "language_info": {
      "name": "python"
    }
  },
  "cells": [
    {
      "cell_type": "markdown",
      "metadata": {
        "id": "view-in-github",
        "colab_type": "text"
      },
      "source": [
        "<a href=\"https://colab.research.google.com/github/omer-re/Code_signature_parser/blob/main/c_code_signature_parser.ipynb\" target=\"_parent\"><img src=\"https://colab.research.google.com/assets/colab-badge.svg\" alt=\"Open In Colab\"/></a>"
      ]
    },
    {
      "cell_type": "markdown",
      "source": [
        "look for <>\n",
        "look for what's after //\n",
        "look for what's after= and before ;\n",
        "no \";\" don't process"
      ],
      "metadata": {
        "id": "knYlnKICe-4g"
      }
    },
    {
      "cell_type": "code",
      "source": [
        "def longestSubstringFinder(string1, string2):\n",
        "    answer = \"\"\n",
        "    len1, len2 = len(string1), len(string2)\n",
        "    for i in range(len1):\n",
        "        match = \"\"\n",
        "        for j in range(len2):\n",
        "            if (i + j < len1 and string1[i + j] == string2[j]):\n",
        "                match += string2[j]\n",
        "            else:\n",
        "                if (len(match) > len(answer)): answer = match\n",
        "                match = \"\"\n",
        "    return answer\n",
        "\n",
        "# search from left\n",
        "def find_between( s, first, last ):\n",
        "    try:\n",
        "        start = s.index( first ) + len( first )\n",
        "        end = s.index( last, start )\n",
        "        return s[start:end]\n",
        "    except ValueError:\n",
        "        return None\n",
        "\n",
        "# search from right\n",
        "def find_between_r( s, first, last ):\n",
        "    try:\n",
        "        start = s.rindex( first ) + len( first )\n",
        "        end = s.rindex( last, start )\n",
        "        return s[start:end]\n",
        "    except ValueError:\n",
        "        return None\n"
      ],
      "metadata": {
        "id": "6AKs2QJNe6K3"
      },
      "execution_count": null,
      "outputs": []
    },
    {
      "cell_type": "code",
      "source": [
        "# known C $ C++ modifiers and types, this part is currently not in use.\n",
        "'''\n",
        "known_types= ['bool', 'char', 'char8_t', 'unsigned char', 'signed char', '__int8', 'char16_t', '__int16', 'short', 'unsigned short', 'wchar_t', '__wchar_t', 'char32_t', 'float', '__int32', \n",
        "              'int', 'unsigned int', 'long', 'unsigned long','double', '__int64', 'long double', 'long long', 'unsigned long long']\n",
        "modifiers=[\"signed\",\"unsigned\",\"short\",\"long\"]\n",
        "'''\n"
      ],
      "metadata": {
        "id": "hSlqjyTHfPRY"
      },
      "execution_count": null,
      "outputs": []
    },
    {
      "cell_type": "code",
      "source": [
        "# optinal\n",
        "def get_comment(line):\n",
        "    if \"//\" in line:\n",
        "        #print(\"comment:  \",line.rpartition('//')[2])\n",
        "        rpart=line.rpartition('//')\n",
        "        comment=(rpart[2])\n",
        "        sgn_comment.append(comment)\n",
        "        # print(\"comment:  \", comment)\n",
        "        return rpart[0].rstrip()\n",
        "    elif \"/*\" in line:\n",
        "        #print(\"comment:  \",line.rpartition('//')[2])\n",
        "        rpart=line.rpartition('/*')\n",
        "        comment=rpart[2]\n",
        "        sgn_comment.append(comment)\n",
        "        # print(\"comment:  \", comment)\n",
        "        return rpart[0].rstrip()\n",
        "    else :\n",
        "      #  print(\"no comment\")\n",
        "        sgn_comment.append(\" \")\n",
        "        return line.rstrip()\n",
        "    \n",
        "\n",
        "# optinal\n",
        "def get_def_val(line):\n",
        "    line=line.replace(\";\",\" \")\n",
        "    line=line.rstrip()\n",
        "\n",
        "    if \"=\" in line:\n",
        "        #print(\"def val: \"+line.split('=')[1])\n",
        "        sgn_default_val.append(line.split('=')[1].strip())\n",
        "        # print(\"def val:  \",line.split('=')[1])\n",
        "        return line.split('=')[0]\n",
        "    else :\n",
        "    #    print(\"no def val\")\n",
        "        sgn_default_val.append(\" \")\n",
        "        return line\n",
        "\n",
        "# mandatory\n",
        "def get_var_name(line):\n",
        "    #search from right\n",
        "    if line[-1]==\" \":\n",
        "        line=line[:-1]\n",
        "    split_line=line.rsplit(\" \",1)\n",
        "    var=split_line[-1]\n",
        "    # print('var name:  ',var)\n",
        "    sgn_var_name.append(var.strip());\n",
        "\n",
        "    return split_line[0]\n",
        "\n",
        "\n",
        "# mandatory\n",
        "def get_type(line_type):\n",
        "\n",
        "    new_type=line_type\n",
        "    if \">\" in line_type:\n",
        "        delim=line_type.index(\">\")\n",
        "        new_type=line_type[:delim+1]\n",
        "    \n",
        "    sgn_type.append(new_type.lstrip())"
      ],
      "metadata": {
        "id": "0rtpIlkydKMf"
      },
      "execution_count": null,
      "outputs": []
    },
    {
      "cell_type": "code",
      "source": [
        "def parse_file(code_file):\n",
        "    f=open(code_file,'r',encoding='utf8')\n",
        "    lines=f.readlines()\n",
        "    for line in lines:\n",
        "        if \";\" in line:\n",
        "            line_no_comment=get_comment(line)\n",
        "            line_no_def_val=get_def_val(line_no_comment)\n",
        "            line_no_var=get_var_name(line_no_def_val)\n",
        "            get_type(line_no_var)\n",
        "    df = pd.DataFrame(zip(sgn_type, sgn_var_name, sgn_default_val, sgn_comment), columns=['type', 'var name', 'default value','comment'])\n",
        "\n",
        "    print(df.to_markdown(index=False)) \n",
        "    return df"
      ],
      "metadata": {
        "id": "aWLg-O6btSvi"
      },
      "execution_count": null,
      "outputs": []
    },
    {
      "cell_type": "code",
      "source": [
        "from prettytable import PrettyTable\n",
        "import tabulate\n",
        "import pandas as pd\n",
        "\n",
        "sgn_type=[]\n",
        "sgn_var_name=[]\n",
        "sgn_default_val=[]\n",
        "sgn_comment=[]\n",
        "\n",
        "parse_file(r\"/content/text\")\n",
        "\n"
      ],
      "metadata": {
        "id": "2kyLM-28xlFo"
      },
      "execution_count": null,
      "outputs": []
    }
  ]
}